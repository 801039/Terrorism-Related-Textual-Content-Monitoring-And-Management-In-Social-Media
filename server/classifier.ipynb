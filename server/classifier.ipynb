{
 "cells": [
  {
   "cell_type": "markdown",
   "metadata": {},
   "source": [
    "# Import Libraries"
   ]
  },
  {
   "cell_type": "code",
   "execution_count": 2,
   "metadata": {},
   "outputs": [],
   "source": [
    "import pandas as pd\n",
    "import pickle"
   ]
  },
  {
   "cell_type": "code",
   "execution_count": 3,
   "metadata": {},
   "outputs": [],
   "source": [
    "from sklearn.naive_bayes import *\n",
    "from sklearn.dummy import *\n",
    "from sklearn.ensemble import *\n",
    "from sklearn.neighbors import *\n",
    "from sklearn.tree import *\n",
    "from sklearn.feature_extraction.text import CountVectorizer\n",
    "from sklearn.feature_extraction.text import TfidfVectorizer\n",
    "from sklearn.feature_extraction.text import HashingVectorizer\n",
    "from sklearn.calibration import *\n",
    "from sklearn.linear_model import *\n",
    "from sklearn.multiclass import *\n",
    "from sklearn.svm import *"
   ]
  },
  {
   "attachments": {},
   "cell_type": "markdown",
   "metadata": {},
   "source": [
    "loading the tweets dataset into a pandas dataframe"
   ]
  },
  {
   "cell_type": "code",
   "execution_count": 5,
   "metadata": {},
   "outputs": [
    {
     "data": {
      "text/html": [
       "<div>\n",
       "<style scoped>\n",
       "    .dataframe tbody tr th:only-of-type {\n",
       "        vertical-align: middle;\n",
       "    }\n",
       "\n",
       "    .dataframe tbody tr th {\n",
       "        vertical-align: top;\n",
       "    }\n",
       "\n",
       "    .dataframe thead th {\n",
       "        text-align: right;\n",
       "    }\n",
       "</style>\n",
       "<table border=\"1\" class=\"dataframe\">\n",
       "  <thead>\n",
       "    <tr style=\"text-align: right;\">\n",
       "      <th></th>\n",
       "      <th>value</th>\n",
       "      <th>tweet</th>\n",
       "    </tr>\n",
       "  </thead>\n",
       "  <tbody>\n",
       "    <tr>\n",
       "      <th>9878</th>\n",
       "      <td>0</td>\n",
       "      <td>@Freedom_speech2 If #Palmyra  fall they will c...</td>\n",
       "    </tr>\n",
       "    <tr>\n",
       "      <th>20947</th>\n",
       "      <td>1</td>\n",
       "      <td>Will The Chip Work? Standards, tools and secur...</td>\n",
       "    </tr>\n",
       "    <tr>\n",
       "      <th>16549</th>\n",
       "      <td>0</td>\n",
       "      <td>Poem by Ibn Kalakis</td>\n",
       "    </tr>\n",
       "    <tr>\n",
       "      <th>19041</th>\n",
       "      <td>1</td>\n",
       "      <td>@OllieBeavis shame on the boyfriends, brothers...</td>\n",
       "    </tr>\n",
       "    <tr>\n",
       "      <th>33502</th>\n",
       "      <td>1</td>\n",
       "      <td>@NolteNC right #GOPe and #dem polls</td>\n",
       "    </tr>\n",
       "  </tbody>\n",
       "</table>\n",
       "</div>"
      ],
      "text/plain": [
       "       value                                              tweet\n",
       "9878       0  @Freedom_speech2 If #Palmyra  fall they will c...\n",
       "20947      1  Will The Chip Work? Standards, tools and secur...\n",
       "16549      0                                Poem by Ibn Kalakis\n",
       "19041      1  @OllieBeavis shame on the boyfriends, brothers...\n",
       "33502      1                @NolteNC right #GOPe and #dem polls"
      ]
     },
     "execution_count": 5,
     "metadata": {},
     "output_type": "execute_result"
    }
   ],
   "source": [
    "df = pd.read_csv('data/data.csv', encoding=\"latin-1\")\n",
    "df = df.sample(frac = 1)\n",
    "df.head()"
   ]
  },
  {
   "attachments": {},
   "cell_type": "markdown",
   "metadata": {},
   "source": [
    "select tweets to train and test dataset"
   ]
  },
  {
   "cell_type": "code",
   "execution_count": 7,
   "metadata": {},
   "outputs": [
    {
     "data": {
      "text/html": [
       "<div>\n",
       "<style scoped>\n",
       "    .dataframe tbody tr th:only-of-type {\n",
       "        vertical-align: middle;\n",
       "    }\n",
       "\n",
       "    .dataframe tbody tr th {\n",
       "        vertical-align: top;\n",
       "    }\n",
       "\n",
       "    .dataframe thead th {\n",
       "        text-align: right;\n",
       "    }\n",
       "</style>\n",
       "<table border=\"1\" class=\"dataframe\">\n",
       "  <thead>\n",
       "    <tr style=\"text-align: right;\">\n",
       "      <th></th>\n",
       "      <th>value</th>\n",
       "      <th>tweet</th>\n",
       "    </tr>\n",
       "  </thead>\n",
       "  <tbody>\n",
       "    <tr>\n",
       "      <th>9878</th>\n",
       "      <td>0</td>\n",
       "      <td>@Freedom_speech2 If #Palmyra  fall they will c...</td>\n",
       "    </tr>\n",
       "    <tr>\n",
       "      <th>20947</th>\n",
       "      <td>1</td>\n",
       "      <td>Will The Chip Work? Standards, tools and secur...</td>\n",
       "    </tr>\n",
       "    <tr>\n",
       "      <th>16549</th>\n",
       "      <td>0</td>\n",
       "      <td>Poem by Ibn Kalakis</td>\n",
       "    </tr>\n",
       "    <tr>\n",
       "      <th>19041</th>\n",
       "      <td>1</td>\n",
       "      <td>@OllieBeavis shame on the boyfriends, brothers...</td>\n",
       "    </tr>\n",
       "    <tr>\n",
       "      <th>33502</th>\n",
       "      <td>1</td>\n",
       "      <td>@NolteNC right #GOPe and #dem polls</td>\n",
       "    </tr>\n",
       "  </tbody>\n",
       "</table>\n",
       "</div>"
      ],
      "text/plain": [
       "       value                                              tweet\n",
       "9878       0  @Freedom_speech2 If #Palmyra  fall they will c...\n",
       "20947      1  Will The Chip Work? Standards, tools and secur...\n",
       "16549      0                                Poem by Ibn Kalakis\n",
       "19041      1  @OllieBeavis shame on the boyfriends, brothers...\n",
       "33502      1                @NolteNC right #GOPe and #dem polls"
      ]
     },
     "execution_count": 7,
     "metadata": {},
     "output_type": "execute_result"
    }
   ],
   "source": [
    "train_data = df[:250]\n",
    "test_data = df[250:]\n",
    "df.head()"
   ]
  },
  {
   "cell_type": "code",
   "execution_count": 8,
   "metadata": {},
   "outputs": [],
   "source": [
    "def perform(classifiers, vectorizers, train_data, test_data):\n",
    "    max_score = 0\n",
    "    max_name = 0\n",
    "    for classifier in classifiers:\n",
    "        for vectorizer in vectorizers:\n",
    "        \n",
    "            # train\n",
    "            vectorize_text = vectorizer.fit_transform(train_data.tweet)\n",
    "            classifier.fit(vectorize_text, train_data.value)\n",
    "\n",
    "            # score\n",
    "            vectorize_text = vectorizer.transform(test_data.tweet)\n",
    "            score = classifier.score(vectorize_text, test_data.value)\n",
    "            name = classifier.__class__.__name__ + ' with ' + vectorizer.__class__.__name__ \n",
    "            print(name, score)\n",
    "        if score > max_score:\n",
    "            max_score = score\n",
    "            max_name = name\n",
    "    print ('===========================================')\n",
    "    print ('===========================================')\n",
    "    print (max_name, max_score)\n",
    "    print ('===========================================')\n",
    "    print ('===========================================')"
   ]
  },
  {
   "cell_type": "markdown",
   "metadata": {},
   "source": [
    "list of various classifiers we are going to use"
   ]
  },
  {
   "cell_type": "code",
   "execution_count": 9,
   "metadata": {},
   "outputs": [],
   "source": [
    "classifiers = [\n",
    "        BernoulliNB(),\n",
    "        RandomForestClassifier(n_estimators=100, n_jobs=-1),\n",
    "        AdaBoostClassifier(),\n",
    "        BaggingClassifier(),\n",
    "        ExtraTreesClassifier(),\n",
    "        GradientBoostingClassifier(),\n",
    "        DecisionTreeClassifier(),\n",
    "        CalibratedClassifierCV(),\n",
    "        DummyClassifier(),\n",
    "        PassiveAggressiveClassifier(),\n",
    "        RidgeClassifier(),\n",
    "        RidgeClassifierCV(),\n",
    "        SGDClassifier(),\n",
    "        OneVsRestClassifier(SVC(kernel='linear')),\n",
    "        OneVsRestClassifier(LogisticRegression()),\n",
    "        KNeighborsClassifier()\n",
    "    ]"
   ]
  },
  {
   "cell_type": "markdown",
   "metadata": {},
   "source": [
    "list of various vectorizers we are going to use"
   ]
  },
  {
   "cell_type": "code",
   "execution_count": 10,
   "metadata": {},
   "outputs": [],
   "source": [
    "vectorizers = [\n",
    "        CountVectorizer(),\n",
    "        TfidfVectorizer(),\n",
    "        HashingVectorizer()\n",
    "    ]"
   ]
  },
  {
   "cell_type": "markdown",
   "metadata": {},
   "source": [
    "perform classification and save results to a new dataframe"
   ]
  },
  {
   "cell_type": "code",
   "execution_count": 11,
   "metadata": {},
   "outputs": [
    {
     "name": "stdout",
     "output_type": "stream",
     "text": [
      "BernoulliNB with CountVectorizer 0.7538564901908089\n",
      "BernoulliNB with TfidfVectorizer 0.7538564901908089\n",
      "BernoulliNB with HashingVectorizer 0.5348562214458479\n",
      "RandomForestClassifier with CountVectorizer 0.8778016662187584\n",
      "RandomForestClassifier with TfidfVectorizer 0.8663531308787961\n",
      "RandomForestClassifier with HashingVectorizer 0.8401236226820747\n",
      "AdaBoostClassifier with CountVectorizer 0.8816715936576189\n",
      "AdaBoostClassifier with TfidfVectorizer 0.8227358237033056\n",
      "AdaBoostClassifier with HashingVectorizer 0.844638538027412\n",
      "BaggingClassifier with CountVectorizer 0.8720236495565709\n",
      "BaggingClassifier with TfidfVectorizer 0.7860521365224402\n",
      "BaggingClassifier with HashingVectorizer 0.8699811878527277\n",
      "ExtraTreesClassifier with CountVectorizer 0.8911045417898414\n",
      "ExtraTreesClassifier with TfidfVectorizer 0.8743348562214458\n",
      "ExtraTreesClassifier with HashingVectorizer 0.8492340768610589\n",
      "GradientBoostingClassifier with CountVectorizer 0.8806772373018006\n",
      "GradientBoostingClassifier with TfidfVectorizer 0.8618650900295619\n",
      "GradientBoostingClassifier with HashingVectorizer 0.8608169846815372\n",
      "DecisionTreeClassifier with CountVectorizer 0.8794947594732598\n",
      "DecisionTreeClassifier with TfidfVectorizer 0.7922063961300726\n",
      "DecisionTreeClassifier with HashingVectorizer 0.8281107229239452\n",
      "CalibratedClassifierCV with CountVectorizer 0.8577532921257727\n",
      "CalibratedClassifierCV with TfidfVectorizer 0.8735823703305563\n",
      "CalibratedClassifierCV with HashingVectorizer 0.8722117710292931\n",
      "DummyClassifier with CountVectorizer 0.5348562214458479\n",
      "DummyClassifier with TfidfVectorizer 0.5348562214458479\n",
      "DummyClassifier with HashingVectorizer 0.5348562214458479\n",
      "PassiveAggressiveClassifier with CountVectorizer 0.861327600107498\n",
      "PassiveAggressiveClassifier with TfidfVectorizer 0.8771566783122816\n",
      "PassiveAggressiveClassifier with HashingVectorizer 0.8774254232733136\n",
      "RidgeClassifier with CountVectorizer 0.8501478097285676\n",
      "RidgeClassifier with TfidfVectorizer 0.8689868314969095\n",
      "RidgeClassifier with HashingVectorizer 0.871647406611126\n",
      "RidgeClassifierCV with CountVectorizer 0.8727761354474604\n",
      "RidgeClassifierCV with TfidfVectorizer 0.8726417629669444\n",
      "RidgeClassifierCV with HashingVectorizer 0.8734479978500403\n",
      "SGDClassifier with CountVectorizer 0.8612201021230852\n",
      "SGDClassifier with TfidfVectorizer 0.8588013974737974\n",
      "SGDClassifier with HashingVectorizer 0.8623757054555227\n",
      "OneVsRestClassifier with CountVectorizer 0.8464122547702231\n",
      "OneVsRestClassifier with TfidfVectorizer 0.8678312281644719\n",
      "OneVsRestClassifier with HashingVectorizer 0.8658425154528353\n",
      "OneVsRestClassifier with CountVectorizer 0.8695511959150766\n",
      "OneVsRestClassifier with TfidfVectorizer 0.8135716205321151\n",
      "OneVsRestClassifier with HashingVectorizer 0.8495834453104004\n",
      "KNeighborsClassifier with CountVectorizer 0.5740123622682075\n",
      "KNeighborsClassifier with TfidfVectorizer 0.7817522171459285\n",
      "KNeighborsClassifier with HashingVectorizer 0.749395323837678\n",
      "===========================================\n",
      "===========================================\n",
      "PassiveAggressiveClassifier with HashingVectorizer 0.8774254232733136\n",
      "===========================================\n",
      "===========================================\n"
     ]
    }
   ],
   "source": [
    "perform(\n",
    "    classifiers,\n",
    "    vectorizers,\n",
    "    train_data,\n",
    "    test_data\n",
    ")"
   ]
  },
  {
   "cell_type": "code",
   "execution_count": 14,
   "metadata": {},
   "outputs": [],
   "source": [
    "# train the classifier with best accuracy\n",
    "Classifier = OneVsRestClassifier(SVC(kernel='linear', probability=True))\n",
    "Vectorizer = TfidfVectorizer()\n",
    "vectorize_text = Vectorizer.fit_transform(train_data.tweet)\n",
    "Classifier.fit(vectorize_text, train_data.value)\n",
    "\n",
    "#export model to pickle\n",
    "pickle.dump(Classifier, open('model/classifier.pkl', 'wb'))\n",
    "pickle.dump(Vectorizer, open('model/vectorizer.pkl', 'wb'))"
   ]
  },
  {
   "cell_type": "code",
   "execution_count": null,
   "metadata": {},
   "outputs": [],
   "source": [
    "Tweet = 'And her woe began to run afresh,'\n",
    "vectorize_message = Vectorizer.transform([Tweet])\n",
    "predict = Classifier.predict(vectorize_message)[0]"
   ]
  },
  {
   "cell_type": "code",
   "execution_count": null,
   "metadata": {},
   "outputs": [
    {
     "name": "stdout",
     "output_type": "stream",
     "text": [
      "Normal\n"
     ]
    }
   ],
   "source": [
    "if predict == 0:\n",
    "    print ('Terror')\n",
    "else:\n",
    "    print ('Normal')Vectorizer = TfidfVectorizer()"
   ]
  }
 ],
 "metadata": {
  "kernelspec": {
   "display_name": "Python 3",
   "language": "python",
   "name": "python3"
  },
  "language_info": {
   "codemirror_mode": {
    "name": "ipython",
    "version": 3
   },
   "file_extension": ".py",
   "mimetype": "text/x-python",
   "name": "python",
   "nbconvert_exporter": "python",
   "pygments_lexer": "ipython3",
   "version": "3.10.6"
  },
  "vscode": {
   "interpreter": {
    "hash": "916dbcbb3f70747c44a77c7bcd40155683ae19c65e1c03b4aa3499c5328201f1"
   }
  }
 },
 "nbformat": 4,
 "nbformat_minor": 2
}
